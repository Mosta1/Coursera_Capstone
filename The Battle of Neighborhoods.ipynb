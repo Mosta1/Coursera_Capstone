{
    "cells": [
        {
            "cell_type": "code",
            "execution_count": null,
            "metadata": {},
            "outputs": [],
            "source": "# First Part:\n# 1 - The problem I chose is that if a person wanted to open a restaurant in New York City, which place would be most ideal for him and his business.\n# Obviously this problem targets business owners in NYC who would like to know what factors determine which place would be suitable for their business\n# to thrive."
        },
        {
            "cell_type": "code",
            "execution_count": null,
            "metadata": {},
            "outputs": [],
            "source": "# 2 - The data I will be using is the Foursquare location data.\n# I will be using this data to view and determine which area in NYC is best for the restaurant, by looking at different factors which include:\n# The shops and restaurants that are open near the area, the location of the area and whether its visited by many people or not,\n# the rating of nearby shops and their popularity, whether the restaurant would be a unique addition to the area or not."
        },
        {
            "cell_type": "code",
            "execution_count": null,
            "metadata": {},
            "outputs": [],
            "source": "\n"
        },
        {
            "cell_type": "code",
            "execution_count": null,
            "metadata": {},
            "outputs": [],
            "source": ""
        },
        {
            "cell_type": "code",
            "execution_count": null,
            "metadata": {},
            "outputs": [],
            "source": ""
        }
    ],
    "metadata": {
        "kernelspec": {
            "display_name": "Python 3.6",
            "language": "python",
            "name": "python3"
        },
        "language_info": {
            "codemirror_mode": {
                "name": "ipython",
                "version": 3
            },
            "file_extension": ".py",
            "mimetype": "text/x-python",
            "name": "python",
            "nbconvert_exporter": "python",
            "pygments_lexer": "ipython3",
            "version": "3.6.9"
        }
    },
    "nbformat": 4,
    "nbformat_minor": 1
}