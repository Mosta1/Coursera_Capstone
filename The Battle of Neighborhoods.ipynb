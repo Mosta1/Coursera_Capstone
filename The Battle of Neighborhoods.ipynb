{
    "cells": [
        {
            "cell_type": "code",
            "execution_count": 4,
            "metadata": {},
            "outputs": [],
            "source": "# First Part, The Report:\n\n# 1 - Introduction: The problem I chose is that if a person wanted to open a restaurant in New York City, which place would be most ideal for him and\n# his business.\n# Obviously this problem targets business owners in NYC who would like to know what factors determine which place would be suitable for their business\n# to thrive.\n\n# 2 - Data: The data I will be using is the Foursquare location data.\n# I will be using this data to view and determine which area in NYC is best for the restaurant, by looking at different factors which include:\n# The shops and restaurants that are open near the area, the location of the area and whether its visited by many people or not,\n# the rating of nearby shops and their popularity, whether the restaurant would be a unique addition to the area or not.\n\n# 3 - Methodology: I first imported the data of NYC and loaded it, then I chose to focus on manhattan as it's the most populated area of NYC,\n# and for the restaurant to thrive, we would need a lot of people to come to the area.\n\n# 4 - Results: After that, I checked the neighborhood and nearby venues and chose the place I found most suitable for the restaurant,\n# the place had a diverse set of venues, only 1 pizza place, and other interesting venues someone would like to visit before or after\n# eating in the restaurant.\n\n# 5 - Discussion: I would recommend that u study the areas that relate to your problem well, and make sure that the variables which affect your \n# problem are there.\n\n# 6 - Conclusion: The best areas for a restaurant to open is the areas which don't have many competing restaurants, but have a diverse set of venues,\n# as well as being in a popular area which is visited often by a large amount of people."
        },
        {
            "cell_type": "code",
            "execution_count": 9,
            "metadata": {},
            "outputs": [
                {
                    "name": "stdout",
                    "output_type": "stream",
                    "text": "Requirement already satisfied: geopy in /opt/conda/envs/Python36/lib/python3.6/site-packages (2.0.0)\nRequirement already satisfied: geographiclib<2,>=1.49 in /opt/conda/envs/Python36/lib/python3.6/site-packages (from geopy) (1.50)\n"
                }
            ],
            "source": "# Second Part, The Code:\n# First, we import the libraries\nimport numpy as np # library to handle data in a vectorized manner\n\nimport pandas as pd # library for data analsysis\npd.set_option('display.max_columns', None)\npd.set_option('display.max_rows', None)\n\nimport json # library to handle JSON files\n\n!pip install geopy \nfrom geopy.geocoders import Nominatim # convert an address into latitude and longitude values\n\nimport requests # library to handle requests\nfrom pandas.io.json import json_normalize # tranform JSON file into a pandas dataframe"
        },
        {
            "cell_type": "code",
            "execution_count": 13,
            "metadata": {},
            "outputs": [
                {
                    "data": {
                        "text/html": "<div>\n<style scoped>\n    .dataframe tbody tr th:only-of-type {\n        vertical-align: middle;\n    }\n\n    .dataframe tbody tr th {\n        vertical-align: top;\n    }\n\n    .dataframe thead th {\n        text-align: right;\n    }\n</style>\n<table border=\"1\" class=\"dataframe\">\n  <thead>\n    <tr style=\"text-align: right;\">\n      <th></th>\n      <th>name</th>\n      <th>categories</th>\n      <th>lat</th>\n      <th>lng</th>\n    </tr>\n  </thead>\n  <tbody>\n    <tr>\n      <th>0</th>\n      <td>Arturo's</td>\n      <td>Pizza Place</td>\n      <td>40.874412</td>\n      <td>-73.910271</td>\n    </tr>\n    <tr>\n      <th>1</th>\n      <td>Bikram Yoga</td>\n      <td>Yoga Studio</td>\n      <td>40.876844</td>\n      <td>-73.906204</td>\n    </tr>\n    <tr>\n      <th>2</th>\n      <td>Tibbett Diner</td>\n      <td>Diner</td>\n      <td>40.880404</td>\n      <td>-73.908937</td>\n    </tr>\n    <tr>\n      <th>3</th>\n      <td>Starbucks</td>\n      <td>Coffee Shop</td>\n      <td>40.877531</td>\n      <td>-73.905582</td>\n    </tr>\n    <tr>\n      <th>4</th>\n      <td>Astral Fitness &amp; Wellness Center</td>\n      <td>Gym</td>\n      <td>40.876705</td>\n      <td>-73.906372</td>\n    </tr>\n    <tr>\n      <th>5</th>\n      <td>Dunkin'</td>\n      <td>Donut Shop</td>\n      <td>40.877136</td>\n      <td>-73.906666</td>\n    </tr>\n    <tr>\n      <th>6</th>\n      <td>Rite Aid</td>\n      <td>Pharmacy</td>\n      <td>40.875467</td>\n      <td>-73.908906</td>\n    </tr>\n    <tr>\n      <th>7</th>\n      <td>TCR The Club of Riverdale</td>\n      <td>Tennis Stadium</td>\n      <td>40.878628</td>\n      <td>-73.914568</td>\n    </tr>\n    <tr>\n      <th>8</th>\n      <td>Starbucks</td>\n      <td>Coffee Shop</td>\n      <td>40.873755</td>\n      <td>-73.908613</td>\n    </tr>\n    <tr>\n      <th>9</th>\n      <td>Blink Fitness</td>\n      <td>Gym</td>\n      <td>40.877271</td>\n      <td>-73.905595</td>\n    </tr>\n    <tr>\n      <th>10</th>\n      <td>Land &amp; Sea Restaurant</td>\n      <td>Seafood Restaurant</td>\n      <td>40.877885</td>\n      <td>-73.905873</td>\n    </tr>\n    <tr>\n      <th>11</th>\n      <td>T.J. Maxx</td>\n      <td>Department Store</td>\n      <td>40.877232</td>\n      <td>-73.905042</td>\n    </tr>\n    <tr>\n      <th>12</th>\n      <td>Vitamin Shoppe</td>\n      <td>Supplement Shop</td>\n      <td>40.877160</td>\n      <td>-73.905632</td>\n    </tr>\n    <tr>\n      <th>13</th>\n      <td>Lot Less Closeouts</td>\n      <td>Discount Store</td>\n      <td>40.878270</td>\n      <td>-73.905265</td>\n    </tr>\n    <tr>\n      <th>14</th>\n      <td>Subway</td>\n      <td>Sandwich Place</td>\n      <td>40.878465</td>\n      <td>-73.905518</td>\n    </tr>\n    <tr>\n      <th>15</th>\n      <td>Baskin-Robbins</td>\n      <td>Ice Cream Shop</td>\n      <td>40.877149</td>\n      <td>-73.906658</td>\n    </tr>\n    <tr>\n      <th>16</th>\n      <td>GameStop</td>\n      <td>Video Game Store</td>\n      <td>40.874267</td>\n      <td>-73.909342</td>\n    </tr>\n    <tr>\n      <th>17</th>\n      <td>Boston Market</td>\n      <td>American Restaurant</td>\n      <td>40.877430</td>\n      <td>-73.905412</td>\n    </tr>\n    <tr>\n      <th>18</th>\n      <td>Five Below</td>\n      <td>Miscellaneous Shop</td>\n      <td>40.877256</td>\n      <td>-73.904938</td>\n    </tr>\n    <tr>\n      <th>19</th>\n      <td>Parrilla Latina</td>\n      <td>Steakhouse</td>\n      <td>40.877473</td>\n      <td>-73.906073</td>\n    </tr>\n    <tr>\n      <th>20</th>\n      <td>The Children's Place</td>\n      <td>Kids Store</td>\n      <td>40.873672</td>\n      <td>-73.908156</td>\n    </tr>\n    <tr>\n      <th>21</th>\n      <td>Target</td>\n      <td>Big Box Store</td>\n      <td>40.873437</td>\n      <td>-73.907726</td>\n    </tr>\n    <tr>\n      <th>22</th>\n      <td>Broadway Plaza</td>\n      <td>Shopping Mall</td>\n      <td>40.877539</td>\n      <td>-73.905396</td>\n    </tr>\n    <tr>\n      <th>23</th>\n      <td>Terrace View Delicatessen</td>\n      <td>Deli / Bodega</td>\n      <td>40.875995</td>\n      <td>-73.913151</td>\n    </tr>\n  </tbody>\n</table>\n</div>",
                        "text/plain": "                                name           categories        lat  \\\n0                           Arturo's          Pizza Place  40.874412   \n1                        Bikram Yoga          Yoga Studio  40.876844   \n2                      Tibbett Diner                Diner  40.880404   \n3                          Starbucks          Coffee Shop  40.877531   \n4   Astral Fitness & Wellness Center                  Gym  40.876705   \n5                            Dunkin'           Donut Shop  40.877136   \n6                           Rite Aid             Pharmacy  40.875467   \n7          TCR The Club of Riverdale       Tennis Stadium  40.878628   \n8                          Starbucks          Coffee Shop  40.873755   \n9                      Blink Fitness                  Gym  40.877271   \n10             Land & Sea Restaurant   Seafood Restaurant  40.877885   \n11                         T.J. Maxx     Department Store  40.877232   \n12                    Vitamin Shoppe      Supplement Shop  40.877160   \n13                Lot Less Closeouts       Discount Store  40.878270   \n14                            Subway       Sandwich Place  40.878465   \n15                    Baskin-Robbins       Ice Cream Shop  40.877149   \n16                          GameStop     Video Game Store  40.874267   \n17                     Boston Market  American Restaurant  40.877430   \n18                        Five Below   Miscellaneous Shop  40.877256   \n19                   Parrilla Latina           Steakhouse  40.877473   \n20              The Children's Place           Kids Store  40.873672   \n21                            Target        Big Box Store  40.873437   \n22                    Broadway Plaza        Shopping Mall  40.877539   \n23         Terrace View Delicatessen        Deli / Bodega  40.875995   \n\n          lng  \n0  -73.910271  \n1  -73.906204  \n2  -73.908937  \n3  -73.905582  \n4  -73.906372  \n5  -73.906666  \n6  -73.908906  \n7  -73.914568  \n8  -73.908613  \n9  -73.905595  \n10 -73.905873  \n11 -73.905042  \n12 -73.905632  \n13 -73.905265  \n14 -73.905518  \n15 -73.906658  \n16 -73.909342  \n17 -73.905412  \n18 -73.904938  \n19 -73.906073  \n20 -73.908156  \n21 -73.907726  \n22 -73.905396  \n23 -73.913151  "
                    },
                    "execution_count": 13,
                    "metadata": {},
                    "output_type": "execute_result"
                }
            ],
            "source": "# we then import and load new york data\n!wget -q -O 'newyork_data.json' https://cocl.us/new_york_dataset\nwith open('newyork_data.json') as json_data:\n    newyork_data = json.load(json_data) \nneighborhoods_data = newyork_data['features']            # we define a new variable that contains the relevant data\n\ncolumn_names = ['Borough', 'Neighborhood', 'Latitude', 'Longitude'] \nneighborhoods = pd.DataFrame(columns=column_names)                     # we then transform the data into a dataframe\n\nfor data in neighborhoods_data:                                       # we then loop through the data and fill the dataframe\n    borough = neighborhood_name = data['properties']['borough'] \n    neighborhood_name = data['properties']['name']\n        \n    neighborhood_latlon = data['geometry']['coordinates']\n    neighborhood_lat = neighborhood_latlon[1]\n    neighborhood_lon = neighborhood_latlon[0]\n    \n    neighborhoods = neighborhoods.append({'Borough': borough,\n                                          'Neighborhood': neighborhood_name,\n                                          'Latitude': neighborhood_lat,\n                                          'Longitude': neighborhood_lon}, ignore_index=True)\n\nmanhattan_data = neighborhoods[neighborhoods['Borough'] == 'Manhattan'].reset_index(drop=True) # we create a new dataframe of manhattan\naddress = 'Manhattan, NY'\ngeolocator = Nominatim(user_agent=\"ny_explorer\")\nlocation = geolocator.geocode(address)\nlatitude = location.latitude\nlongitude = location.longitude                   # we get the latitude, longitude values of manhattan\n\nCLIENT_ID = 'W4RVZZONWGFSOJWOAFXWUYT3MHG2CDDQ5WJO2M23QREYJYHG'\nCLIENT_SECRET = '1RGGK2SSIS5ZB4OVFMNDF5H50LSG2BRE2L5ERP3BY4H25BXS'\nVERSION = '20180605'                                                # we define our foursquare credentials and version\n\nneighborhood_latitude = manhattan_data.loc[0, 'Latitude'] # neighborhood latitude value\nneighborhood_longitude = manhattan_data.loc[0, 'Longitude'] # neighborhood longitude value\nneighborhood_name = manhattan_data.loc[0, 'Neighborhood']   # neighborhood name\n\nLIMIT = 100 # limit of number of venues returned by Foursquare API\nradius = 500 # define radius\nurl = 'https://api.foursquare.com/v2/venues/explore?&client_id={}&client_secret={}&v={}&ll={},{}&radius={}&limit={}'.format(\n    CLIENT_ID, \n    CLIENT_SECRET, \n    VERSION, \n    neighborhood_latitude, \n    neighborhood_longitude, \n    radius, \n    LIMIT)\nresults = requests.get(url).json()\n\n# function that extracts the category of the venue\ndef get_category_type(row):\n    try:\n        categories_list = row['categories']\n    except:\n        categories_list = row['venue.categories']\n        \n    if len(categories_list) == 0:\n        return None\n    else:\n        return categories_list[0]['name']\n    \nvenues = results['response']['groups'][0]['items']   \nnearby_venues = json_normalize(venues) # flatten JSON\n\n# filter columns\nfiltered_columns = ['venue.name', 'venue.categories', 'venue.location.lat', 'venue.location.lng']\nnearby_venues =nearby_venues.loc[:, filtered_columns]\n\n# filter the category for each row\nnearby_venues['venue.categories'] = nearby_venues.apply(get_category_type, axis=1)\n\n# clean columns\nnearby_venues.columns = [col.split(\".\")[-1] for col in nearby_venues.columns]\n\nnearby_venues          # as we can see from this place in manhattan, it has only 1 pizza place, 23 other good variety of venues which people visit a lot\n                       # which would indicate that this a great place for the restaurant."
        },
        {
            "cell_type": "code",
            "execution_count": null,
            "metadata": {},
            "outputs": [],
            "source": ""
        },
        {
            "cell_type": "code",
            "execution_count": null,
            "metadata": {},
            "outputs": [],
            "source": ""
        }
    ],
    "metadata": {
        "kernelspec": {
            "display_name": "Python 3.6",
            "language": "python",
            "name": "python3"
        },
        "language_info": {
            "codemirror_mode": {
                "name": "ipython",
                "version": 3
            },
            "file_extension": ".py",
            "mimetype": "text/x-python",
            "name": "python",
            "nbconvert_exporter": "python",
            "pygments_lexer": "ipython3",
            "version": "3.6.9"
        }
    },
    "nbformat": 4,
    "nbformat_minor": 1
}